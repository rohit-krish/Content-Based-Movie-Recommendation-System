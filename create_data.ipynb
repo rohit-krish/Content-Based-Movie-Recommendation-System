{
 "cells": [
  {
   "cell_type": "code",
   "execution_count": 2,
   "metadata": {
    "id": "PUnaQxWljOE4"
   },
   "outputs": [],
   "source": [
    "import pandas as pd\n",
    "import numpy as np\n",
    "import pickle\n",
    "import requests\n",
    "import os\n",
    "from tqdm import tqdm\n",
    "import dotenv\n",
    "\n",
    "pd.set_option('display.max_columns', None)"
   ]
  },
  {
   "cell_type": "code",
   "execution_count": 5,
   "metadata": {
    "cellView": "form",
    "id": "fw8Wr3JSiWGk"
   },
   "outputs": [],
   "source": [
    "ids = pickle.load(open('./data/ids.pkl', 'rb'))\n",
    "dotenv.load_dotenv()\n",
    "api_key = os.environ['API_KEY']\n"
   ]
  },
  {
   "attachments": {},
   "cell_type": "markdown",
   "metadata": {
    "tags": []
   },
   "source": [
    "### Plan\n",
    "\n",
    "Create\n",
    "1. movies_metadata -> [id, title, overview, adult, release_year, poster_url]\n",
    "2. credits         -> [id, cast, director]\n",
    "3. keywords        -> [id, keywords]\n"
   ]
  },
  {
   "attachments": {},
   "cell_type": "markdown",
   "metadata": {},
   "source": [
    "### movies_metadata"
   ]
  },
  {
   "cell_type": "code",
   "execution_count": null,
   "metadata": {
    "id": "exXw9aikjDpJ"
   },
   "outputs": [],
   "source": [
    "def create_movies_single_row(movie_id, data, resp):\n",
    "    if resp.get('poster_path') != None:\n",
    "        data['genres'].append([])\n",
    "\n",
    "        for g in resp['genres']:\n",
    "            data['genres'][-1].append(g['name'])\n",
    "\n",
    "        data['id'].append(movie_id)\n",
    "        data['title'].append(resp['title'])\n",
    "        data['overview'].append(resp['overview'])\n",
    "        data['adult'].append(resp['adult'])\n",
    "        data['release_year'].append(resp['release_date'].split('-')[0])\n",
    "        data['poster_url'].append('https://image.tmdb.org/t/p/w500'+resp['poster_path'])\n"
   ]
  },
  {
   "cell_type": "code",
   "execution_count": null,
   "metadata": {
    "colab": {
     "base_uri": "https://localhost:8080/"
    },
    "id": "bLANxEWfjH7N",
    "outputId": "f76eb2f7-d46c-4fc8-fd6b-269c7d7d06b3"
   },
   "outputs": [
    {
     "name": "stderr",
     "output_type": "stream",
     "text": [
      "100%|██████████| 33588/33588 [57:53<00:00,  9.67it/s]\n"
     ]
    }
   ],
   "source": [
    "movies_data = {\n",
    "    'id': [],\n",
    "    'title': [],\n",
    "    'genres': [],\n",
    "    'overview': [],\n",
    "    'adult': [],\n",
    "    'release_year': [],\n",
    "    'poster_url': []\n",
    "    \n",
    "}\n",
    "\n",
    "for id in tqdm(ids):\n",
    "    url = f\"http://api.themoviedb.org/3/movie/{id}?api_key={api_key}&language=en-US\"\n",
    "    resp = requests.get(url).json()\n",
    "\n",
    "    create_movies_single_row(id, movies_data, resp)\n"
   ]
  },
  {
   "cell_type": "code",
   "execution_count": null,
   "metadata": {
    "colab": {
     "base_uri": "https://localhost:8080/",
     "height": 206
    },
    "id": "CsSjfb4DjTHq",
    "outputId": "a21a5318-e3b0-441e-8ff2-43d2443df60f"
   },
   "outputs": [
    {
     "data": {
      "text/html": [
       "\n",
       "  <div id=\"df-5017e0d7-6d7f-4855-b5c9-51bb593c91c1\">\n",
       "    <div class=\"colab-df-container\">\n",
       "      <div>\n",
       "<style scoped>\n",
       "    .dataframe tbody tr th:only-of-type {\n",
       "        vertical-align: middle;\n",
       "    }\n",
       "\n",
       "    .dataframe tbody tr th {\n",
       "        vertical-align: top;\n",
       "    }\n",
       "\n",
       "    .dataframe thead th {\n",
       "        text-align: right;\n",
       "    }\n",
       "</style>\n",
       "<table border=\"1\" class=\"dataframe\">\n",
       "  <thead>\n",
       "    <tr style=\"text-align: right;\">\n",
       "      <th></th>\n",
       "      <th>id</th>\n",
       "      <th>title</th>\n",
       "      <th>genres</th>\n",
       "      <th>overview</th>\n",
       "      <th>adult</th>\n",
       "      <th>release_year</th>\n",
       "      <th>poster_url</th>\n",
       "    </tr>\n",
       "  </thead>\n",
       "  <tbody>\n",
       "    <tr>\n",
       "      <th>0</th>\n",
       "      <td>862</td>\n",
       "      <td>Toy Story</td>\n",
       "      <td>[Animation, Adventure, Family, Comedy]</td>\n",
       "      <td>Led by Woody, Andy's toys live happily in his ...</td>\n",
       "      <td>False</td>\n",
       "      <td>1995</td>\n",
       "      <td>https://image.tmdb.org/t/p/w500/uXDfjJbdP4ijW5...</td>\n",
       "    </tr>\n",
       "    <tr>\n",
       "      <th>1</th>\n",
       "      <td>8844</td>\n",
       "      <td>Jumanji</td>\n",
       "      <td>[Adventure, Fantasy, Family]</td>\n",
       "      <td>When siblings Judy and Peter discover an encha...</td>\n",
       "      <td>False</td>\n",
       "      <td>1995</td>\n",
       "      <td>https://image.tmdb.org/t/p/w500/v2XHtmVqpERPy0...</td>\n",
       "    </tr>\n",
       "    <tr>\n",
       "      <th>2</th>\n",
       "      <td>15602</td>\n",
       "      <td>Grumpier Old Men</td>\n",
       "      <td>[Romance, Comedy]</td>\n",
       "      <td>A family wedding reignites the ancient feud be...</td>\n",
       "      <td>False</td>\n",
       "      <td>1995</td>\n",
       "      <td>https://image.tmdb.org/t/p/w500/1FSXpj5e8l4KH6...</td>\n",
       "    </tr>\n",
       "    <tr>\n",
       "      <th>3</th>\n",
       "      <td>31357</td>\n",
       "      <td>Waiting to Exhale</td>\n",
       "      <td>[Comedy, Drama, Romance]</td>\n",
       "      <td>Cheated on, mistreated and stepped on, the wom...</td>\n",
       "      <td>False</td>\n",
       "      <td>1995</td>\n",
       "      <td>https://image.tmdb.org/t/p/w500/kJokIbVDkd6Ywp...</td>\n",
       "    </tr>\n",
       "    <tr>\n",
       "      <th>4</th>\n",
       "      <td>11862</td>\n",
       "      <td>Father of the Bride Part II</td>\n",
       "      <td>[Comedy, Family]</td>\n",
       "      <td>Just when George Banks has recovered from his ...</td>\n",
       "      <td>False</td>\n",
       "      <td>1995</td>\n",
       "      <td>https://image.tmdb.org/t/p/w500/rj4LBtwQ0uGrpB...</td>\n",
       "    </tr>\n",
       "  </tbody>\n",
       "</table>\n",
       "</div>\n",
       "      <button class=\"colab-df-convert\" onclick=\"convertToInteractive('df-5017e0d7-6d7f-4855-b5c9-51bb593c91c1')\"\n",
       "              title=\"Convert this dataframe to an interactive table.\"\n",
       "              style=\"display:none;\">\n",
       "        \n",
       "  <svg xmlns=\"http://www.w3.org/2000/svg\" height=\"24px\"viewBox=\"0 0 24 24\"\n",
       "       width=\"24px\">\n",
       "    <path d=\"M0 0h24v24H0V0z\" fill=\"none\"/>\n",
       "    <path d=\"M18.56 5.44l.94 2.06.94-2.06 2.06-.94-2.06-.94-.94-2.06-.94 2.06-2.06.94zm-11 1L8.5 8.5l.94-2.06 2.06-.94-2.06-.94L8.5 2.5l-.94 2.06-2.06.94zm10 10l.94 2.06.94-2.06 2.06-.94-2.06-.94-.94-2.06-.94 2.06-2.06.94z\"/><path d=\"M17.41 7.96l-1.37-1.37c-.4-.4-.92-.59-1.43-.59-.52 0-1.04.2-1.43.59L10.3 9.45l-7.72 7.72c-.78.78-.78 2.05 0 2.83L4 21.41c.39.39.9.59 1.41.59.51 0 1.02-.2 1.41-.59l7.78-7.78 2.81-2.81c.8-.78.8-2.07 0-2.86zM5.41 20L4 18.59l7.72-7.72 1.47 1.35L5.41 20z\"/>\n",
       "  </svg>\n",
       "      </button>\n",
       "      \n",
       "  <style>\n",
       "    .colab-df-container {\n",
       "      display:flex;\n",
       "      flex-wrap:wrap;\n",
       "      gap: 12px;\n",
       "    }\n",
       "\n",
       "    .colab-df-convert {\n",
       "      background-color: #E8F0FE;\n",
       "      border: none;\n",
       "      border-radius: 50%;\n",
       "      cursor: pointer;\n",
       "      display: none;\n",
       "      fill: #1967D2;\n",
       "      height: 32px;\n",
       "      padding: 0 0 0 0;\n",
       "      width: 32px;\n",
       "    }\n",
       "\n",
       "    .colab-df-convert:hover {\n",
       "      background-color: #E2EBFA;\n",
       "      box-shadow: 0px 1px 2px rgba(60, 64, 67, 0.3), 0px 1px 3px 1px rgba(60, 64, 67, 0.15);\n",
       "      fill: #174EA6;\n",
       "    }\n",
       "\n",
       "    [theme=dark] .colab-df-convert {\n",
       "      background-color: #3B4455;\n",
       "      fill: #D2E3FC;\n",
       "    }\n",
       "\n",
       "    [theme=dark] .colab-df-convert:hover {\n",
       "      background-color: #434B5C;\n",
       "      box-shadow: 0px 1px 3px 1px rgba(0, 0, 0, 0.15);\n",
       "      filter: drop-shadow(0px 1px 2px rgba(0, 0, 0, 0.3));\n",
       "      fill: #FFFFFF;\n",
       "    }\n",
       "  </style>\n",
       "\n",
       "      <script>\n",
       "        const buttonEl =\n",
       "          document.querySelector('#df-5017e0d7-6d7f-4855-b5c9-51bb593c91c1 button.colab-df-convert');\n",
       "        buttonEl.style.display =\n",
       "          google.colab.kernel.accessAllowed ? 'block' : 'none';\n",
       "\n",
       "        async function convertToInteractive(key) {\n",
       "          const element = document.querySelector('#df-5017e0d7-6d7f-4855-b5c9-51bb593c91c1');\n",
       "          const dataTable =\n",
       "            await google.colab.kernel.invokeFunction('convertToInteractive',\n",
       "                                                     [key], {});\n",
       "          if (!dataTable) return;\n",
       "\n",
       "          const docLinkHtml = 'Like what you see? Visit the ' +\n",
       "            '<a target=\"_blank\" href=https://colab.research.google.com/notebooks/data_table.ipynb>data table notebook</a>'\n",
       "            + ' to learn more about interactive tables.';\n",
       "          element.innerHTML = '';\n",
       "          dataTable['output_type'] = 'display_data';\n",
       "          await google.colab.output.renderOutput(dataTable, element);\n",
       "          const docLink = document.createElement('div');\n",
       "          docLink.innerHTML = docLinkHtml;\n",
       "          element.appendChild(docLink);\n",
       "        }\n",
       "      </script>\n",
       "    </div>\n",
       "  </div>\n",
       "  "
      ],
      "text/plain": [
       "      id                        title                                  genres  \\\n",
       "0    862                    Toy Story  [Animation, Adventure, Family, Comedy]   \n",
       "1   8844                      Jumanji            [Adventure, Fantasy, Family]   \n",
       "2  15602             Grumpier Old Men                       [Romance, Comedy]   \n",
       "3  31357            Waiting to Exhale                [Comedy, Drama, Romance]   \n",
       "4  11862  Father of the Bride Part II                        [Comedy, Family]   \n",
       "\n",
       "                                            overview  adult release_year  \\\n",
       "0  Led by Woody, Andy's toys live happily in his ...  False         1995   \n",
       "1  When siblings Judy and Peter discover an encha...  False         1995   \n",
       "2  A family wedding reignites the ancient feud be...  False         1995   \n",
       "3  Cheated on, mistreated and stepped on, the wom...  False         1995   \n",
       "4  Just when George Banks has recovered from his ...  False         1995   \n",
       "\n",
       "                                          poster_url  \n",
       "0  https://image.tmdb.org/t/p/w500/uXDfjJbdP4ijW5...  \n",
       "1  https://image.tmdb.org/t/p/w500/v2XHtmVqpERPy0...  \n",
       "2  https://image.tmdb.org/t/p/w500/1FSXpj5e8l4KH6...  \n",
       "3  https://image.tmdb.org/t/p/w500/kJokIbVDkd6Ywp...  \n",
       "4  https://image.tmdb.org/t/p/w500/rj4LBtwQ0uGrpB...  "
      ]
     },
     "execution_count": 15,
     "metadata": {},
     "output_type": "execute_result"
    }
   ],
   "source": [
    "movies = pd.DataFrame(movies_data)\n",
    "movies.head()\n"
   ]
  },
  {
   "cell_type": "code",
   "execution_count": 2,
   "metadata": {
    "colab": {
     "base_uri": "https://localhost:8080/"
    },
    "id": "kA61VrV803HV",
    "outputId": "ef3e20f0-8476-44eb-a8c7-2de8317cb909"
   },
   "outputs": [
    {
     "name": "stdout",
     "output_type": "stream",
     "text": [
      "Looking in indexes: https://pypi.org/simple, https://us-python.pkg.dev/colab-wheels/public/simple/\n",
      "Collecting fastparquet\n",
      "  Downloading fastparquet-2023.4.0-cp310-cp310-manylinux_2_17_x86_64.manylinux2014_x86_64.whl (1.5 MB)\n",
      "\u001b[2K     \u001b[90m━━━━━━━━━━━━━━━━━━━━━━━━━━━━━━━━━━━━━━━━\u001b[0m \u001b[32m1.5/1.5 MB\u001b[0m \u001b[31m47.0 MB/s\u001b[0m eta \u001b[36m0:00:00\u001b[0m\n",
      "\u001b[?25hRequirement already satisfied: pandas>=1.5.0 in /usr/local/lib/python3.10/dist-packages (from fastparquet) (1.5.3)\n",
      "Requirement already satisfied: numpy>=1.20.3 in /usr/local/lib/python3.10/dist-packages (from fastparquet) (1.22.4)\n",
      "Collecting cramjam>=2.3 (from fastparquet)\n",
      "  Downloading cramjam-2.6.2-cp310-cp310-manylinux_2_17_x86_64.manylinux2014_x86_64.whl (2.0 MB)\n",
      "\u001b[2K     \u001b[90m━━━━━━━━━━━━━━━━━━━━━━━━━━━━━━━━━━━━━━━━\u001b[0m \u001b[32m2.0/2.0 MB\u001b[0m \u001b[31m77.2 MB/s\u001b[0m eta \u001b[36m0:00:00\u001b[0m\n",
      "\u001b[?25hRequirement already satisfied: fsspec in /usr/local/lib/python3.10/dist-packages (from fastparquet) (2023.4.0)\n",
      "Requirement already satisfied: packaging in /usr/local/lib/python3.10/dist-packages (from fastparquet) (23.1)\n",
      "Requirement already satisfied: python-dateutil>=2.8.1 in /usr/local/lib/python3.10/dist-packages (from pandas>=1.5.0->fastparquet) (2.8.2)\n",
      "Requirement already satisfied: pytz>=2020.1 in /usr/local/lib/python3.10/dist-packages (from pandas>=1.5.0->fastparquet) (2022.7.1)\n",
      "Requirement already satisfied: six>=1.5 in /usr/local/lib/python3.10/dist-packages (from python-dateutil>=2.8.1->pandas>=1.5.0->fastparquet) (1.16.0)\n",
      "Installing collected packages: cramjam, fastparquet\n",
      "Successfully installed cramjam-2.6.2 fastparquet-2023.4.0\n"
     ]
    }
   ],
   "source": [
    "%pip install fastparquet"
   ]
  },
  {
   "cell_type": "code",
   "execution_count": null,
   "metadata": {
    "id": "_y8NrQYq09aT"
   },
   "outputs": [],
   "source": [
    "movies.to_parquet('./movies_data.parquet')\n"
   ]
  },
  {
   "cell_type": "code",
   "execution_count": 3,
   "metadata": {
    "id": "v3xV2J39S6UM"
   },
   "outputs": [],
   "source": [
    "movies = pd.read_parquet('./movies_data.parquet')\n",
    "movies_ids = movies['id'].values"
   ]
  },
  {
   "attachments": {},
   "cell_type": "markdown",
   "metadata": {},
   "source": [
    "### credits"
   ]
  },
  {
   "cell_type": "code",
   "execution_count": 16,
   "metadata": {
    "id": "R7Kqfnw9Tjl0"
   },
   "outputs": [],
   "source": [
    "def create_credits_single_row(movie_id, data, resp):\n",
    "    try:\n",
    "        # taking the most popular director\n",
    "        director = [c for c in resp['crew'] if c['job'] == 'Director']\n",
    "        director = sorted(director, key=lambda x: x['popularity'])[::-1][0]\n",
    "    except:\n",
    "        return\n",
    "\n",
    "    data['cast'].append([])\n",
    "    data['director'].append([])\n",
    "\n",
    "    data['director'][-1].append((director['name'], director['profile_path']))\n",
    "\n",
    "    # taking the 5 most popular actors\n",
    "    for c in sorted(resp['cast'], key=lambda x: x['popularity'])[::-1][:5]:\n",
    "        data['cast'][-1].append((c['name'], c['profile_path']))\n",
    "\n",
    "\n",
    "    data['id'].append(movie_id)\n"
   ]
  },
  {
   "cell_type": "code",
   "execution_count": 17,
   "metadata": {
    "colab": {
     "base_uri": "https://localhost:8080/"
    },
    "id": "OS3xoT1zT_ed",
    "outputId": "b182b3ea-1eea-498b-ea2c-27cb6f3308b0"
   },
   "outputs": [
    {
     "name": "stderr",
     "output_type": "stream",
     "text": [
      "100%|██████████| 33089/33089 [1:18:23<00:00,  7.03it/s]\n"
     ]
    }
   ],
   "source": [
    "credits_data = {\n",
    "    'id': [],\n",
    "    'cast': [],\n",
    "    'director': []\n",
    "}\n",
    "\n",
    "for id in tqdm(movies_ids):\n",
    "    url = f\"https://api.themoviedb.org/3/movie/{id}/credits?api_key={api_key}&language=en-US\"\n",
    "    resp = requests.get(url).json()\n",
    "\n",
    "    create_credits_single_row(id, credits_data, resp)\n"
   ]
  },
  {
   "cell_type": "code",
   "execution_count": 18,
   "metadata": {
    "colab": {
     "base_uri": "https://localhost:8080/",
     "height": 206
    },
    "id": "XCmtDOlKUk_r",
    "outputId": "ff2cff6d-8b62-492a-9e27-e0fed61ca22c"
   },
   "outputs": [
    {
     "data": {
      "text/html": [
       "\n",
       "  <div id=\"df-83da9bf5-2dfe-4abf-a078-d3de5f5910fd\">\n",
       "    <div class=\"colab-df-container\">\n",
       "      <div>\n",
       "<style scoped>\n",
       "    .dataframe tbody tr th:only-of-type {\n",
       "        vertical-align: middle;\n",
       "    }\n",
       "\n",
       "    .dataframe tbody tr th {\n",
       "        vertical-align: top;\n",
       "    }\n",
       "\n",
       "    .dataframe thead th {\n",
       "        text-align: right;\n",
       "    }\n",
       "</style>\n",
       "<table border=\"1\" class=\"dataframe\">\n",
       "  <thead>\n",
       "    <tr style=\"text-align: right;\">\n",
       "      <th></th>\n",
       "      <th>id</th>\n",
       "      <th>cast</th>\n",
       "      <th>director</th>\n",
       "    </tr>\n",
       "  </thead>\n",
       "  <tbody>\n",
       "    <tr>\n",
       "      <th>0</th>\n",
       "      <td>862</td>\n",
       "      <td>[(Tom Hanks, /xndWFsBlClOJFRdhSt4NBwiPq2o.jpg)...</td>\n",
       "      <td>[(John Lasseter, /gAVAZZHBa1v3gTcsWcBUwiHcyA0....</td>\n",
       "    </tr>\n",
       "    <tr>\n",
       "      <th>1</th>\n",
       "      <td>8844</td>\n",
       "      <td>[(Kirsten Dunst, /6RAAxI4oPnDMzXpXWgkkzSgnIAJ....</td>\n",
       "      <td>[(Joe Johnston, /fbGZo6CG9Z9zKFh8D5wHunyu7gJ.j...</td>\n",
       "    </tr>\n",
       "    <tr>\n",
       "      <th>2</th>\n",
       "      <td>15602</td>\n",
       "      <td>[(Sophia Loren, /1bBtumefzTEmhmglAICkfizUgwy.j...</td>\n",
       "      <td>[(Howard Deutch, /7mVbikJeAf2rJ23fFE2apzPJ7ch....</td>\n",
       "    </tr>\n",
       "    <tr>\n",
       "      <th>3</th>\n",
       "      <td>31357</td>\n",
       "      <td>[(Angela Bassett, /7Oz53NKdglRzAzI2MKjM3eQXwn....</td>\n",
       "      <td>[(Forest Whitaker, /fugyEeN6sisuYi07HSoxdVHm0C...</td>\n",
       "    </tr>\n",
       "    <tr>\n",
       "      <th>4</th>\n",
       "      <td>11862</td>\n",
       "      <td>[(Diane Keaton, /tnx7pJqisfAzvXOR5wHQsbnH9XH.j...</td>\n",
       "      <td>[(Charles Shyer, /stcwg4mJKGQo0UBfWcXVQy6fOdP....</td>\n",
       "    </tr>\n",
       "  </tbody>\n",
       "</table>\n",
       "</div>\n",
       "      <button class=\"colab-df-convert\" onclick=\"convertToInteractive('df-83da9bf5-2dfe-4abf-a078-d3de5f5910fd')\"\n",
       "              title=\"Convert this dataframe to an interactive table.\"\n",
       "              style=\"display:none;\">\n",
       "        \n",
       "  <svg xmlns=\"http://www.w3.org/2000/svg\" height=\"24px\"viewBox=\"0 0 24 24\"\n",
       "       width=\"24px\">\n",
       "    <path d=\"M0 0h24v24H0V0z\" fill=\"none\"/>\n",
       "    <path d=\"M18.56 5.44l.94 2.06.94-2.06 2.06-.94-2.06-.94-.94-2.06-.94 2.06-2.06.94zm-11 1L8.5 8.5l.94-2.06 2.06-.94-2.06-.94L8.5 2.5l-.94 2.06-2.06.94zm10 10l.94 2.06.94-2.06 2.06-.94-2.06-.94-.94-2.06-.94 2.06-2.06.94z\"/><path d=\"M17.41 7.96l-1.37-1.37c-.4-.4-.92-.59-1.43-.59-.52 0-1.04.2-1.43.59L10.3 9.45l-7.72 7.72c-.78.78-.78 2.05 0 2.83L4 21.41c.39.39.9.59 1.41.59.51 0 1.02-.2 1.41-.59l7.78-7.78 2.81-2.81c.8-.78.8-2.07 0-2.86zM5.41 20L4 18.59l7.72-7.72 1.47 1.35L5.41 20z\"/>\n",
       "  </svg>\n",
       "      </button>\n",
       "      \n",
       "  <style>\n",
       "    .colab-df-container {\n",
       "      display:flex;\n",
       "      flex-wrap:wrap;\n",
       "      gap: 12px;\n",
       "    }\n",
       "\n",
       "    .colab-df-convert {\n",
       "      background-color: #E8F0FE;\n",
       "      border: none;\n",
       "      border-radius: 50%;\n",
       "      cursor: pointer;\n",
       "      display: none;\n",
       "      fill: #1967D2;\n",
       "      height: 32px;\n",
       "      padding: 0 0 0 0;\n",
       "      width: 32px;\n",
       "    }\n",
       "\n",
       "    .colab-df-convert:hover {\n",
       "      background-color: #E2EBFA;\n",
       "      box-shadow: 0px 1px 2px rgba(60, 64, 67, 0.3), 0px 1px 3px 1px rgba(60, 64, 67, 0.15);\n",
       "      fill: #174EA6;\n",
       "    }\n",
       "\n",
       "    [theme=dark] .colab-df-convert {\n",
       "      background-color: #3B4455;\n",
       "      fill: #D2E3FC;\n",
       "    }\n",
       "\n",
       "    [theme=dark] .colab-df-convert:hover {\n",
       "      background-color: #434B5C;\n",
       "      box-shadow: 0px 1px 3px 1px rgba(0, 0, 0, 0.15);\n",
       "      filter: drop-shadow(0px 1px 2px rgba(0, 0, 0, 0.3));\n",
       "      fill: #FFFFFF;\n",
       "    }\n",
       "  </style>\n",
       "\n",
       "      <script>\n",
       "        const buttonEl =\n",
       "          document.querySelector('#df-83da9bf5-2dfe-4abf-a078-d3de5f5910fd button.colab-df-convert');\n",
       "        buttonEl.style.display =\n",
       "          google.colab.kernel.accessAllowed ? 'block' : 'none';\n",
       "\n",
       "        async function convertToInteractive(key) {\n",
       "          const element = document.querySelector('#df-83da9bf5-2dfe-4abf-a078-d3de5f5910fd');\n",
       "          const dataTable =\n",
       "            await google.colab.kernel.invokeFunction('convertToInteractive',\n",
       "                                                     [key], {});\n",
       "          if (!dataTable) return;\n",
       "\n",
       "          const docLinkHtml = 'Like what you see? Visit the ' +\n",
       "            '<a target=\"_blank\" href=https://colab.research.google.com/notebooks/data_table.ipynb>data table notebook</a>'\n",
       "            + ' to learn more about interactive tables.';\n",
       "          element.innerHTML = '';\n",
       "          dataTable['output_type'] = 'display_data';\n",
       "          await google.colab.output.renderOutput(dataTable, element);\n",
       "          const docLink = document.createElement('div');\n",
       "          docLink.innerHTML = docLinkHtml;\n",
       "          element.appendChild(docLink);\n",
       "        }\n",
       "      </script>\n",
       "    </div>\n",
       "  </div>\n",
       "  "
      ],
      "text/plain": [
       "      id                                               cast  \\\n",
       "0    862  [(Tom Hanks, /xndWFsBlClOJFRdhSt4NBwiPq2o.jpg)...   \n",
       "1   8844  [(Kirsten Dunst, /6RAAxI4oPnDMzXpXWgkkzSgnIAJ....   \n",
       "2  15602  [(Sophia Loren, /1bBtumefzTEmhmglAICkfizUgwy.j...   \n",
       "3  31357  [(Angela Bassett, /7Oz53NKdglRzAzI2MKjM3eQXwn....   \n",
       "4  11862  [(Diane Keaton, /tnx7pJqisfAzvXOR5wHQsbnH9XH.j...   \n",
       "\n",
       "                                            director  \n",
       "0  [(John Lasseter, /gAVAZZHBa1v3gTcsWcBUwiHcyA0....  \n",
       "1  [(Joe Johnston, /fbGZo6CG9Z9zKFh8D5wHunyu7gJ.j...  \n",
       "2  [(Howard Deutch, /7mVbikJeAf2rJ23fFE2apzPJ7ch....  \n",
       "3  [(Forest Whitaker, /fugyEeN6sisuYi07HSoxdVHm0C...  \n",
       "4  [(Charles Shyer, /stcwg4mJKGQo0UBfWcXVQy6fOdP....  "
      ]
     },
     "execution_count": 18,
     "metadata": {},
     "output_type": "execute_result"
    }
   ],
   "source": [
    "credits_df = pd.DataFrame(credits_data)\n",
    "credits_df.head()"
   ]
  },
  {
   "cell_type": "code",
   "execution_count": 22,
   "metadata": {
    "id": "g3Tk_JixU0JU"
   },
   "outputs": [],
   "source": [
    "credits_df.to_parquet('./credits_data.parquet')\n"
   ]
  },
  {
   "cell_type": "code",
   "execution_count": 24,
   "metadata": {
    "colab": {
     "base_uri": "https://localhost:8080/"
    },
    "id": "X5xj9bq_psqv",
    "outputId": "60ffad45-0ade-467a-81fb-6b694130212b"
   },
   "outputs": [
    {
     "data": {
      "text/plain": [
       "array(['862', '8844', '15602', ..., '111109', '67758', '227506'],\n",
       "      dtype=object)"
      ]
     },
     "execution_count": 24,
     "metadata": {},
     "output_type": "execute_result"
    }
   ],
   "source": [
    "credits_ids = credits_df['id'].values\n",
    "credits_ids"
   ]
  },
  {
   "attachments": {},
   "cell_type": "markdown",
   "metadata": {
    "tags": []
   },
   "source": [
    "### keywords"
   ]
  },
  {
   "cell_type": "code",
   "execution_count": 28,
   "metadata": {
    "colab": {
     "base_uri": "https://localhost:8080/"
    },
    "id": "qOWM4H2qpnwW",
    "outputId": "f1d99f89-0af3-4f12-a9ee-18dbfd00423f"
   },
   "outputs": [
    {
     "name": "stderr",
     "output_type": "stream",
     "text": [
      "100%|██████████| 33059/33059 [1:19:56<00:00,  6.89it/s]\n"
     ]
    }
   ],
   "source": [
    "def create_keywords_single_row(movie_id, data, resp):\n",
    "    keywords = [k['name'] for k in resp['keywords']]\n",
    "    if len(keywords) > 0:\n",
    "        data['keywords'].append([*keywords])\n",
    "        data['id'].append(movie_id)\n",
    "\n",
    "keywords_data = {\n",
    "    'id': [],\n",
    "    'keywords': [],\n",
    "}\n",
    "\n",
    "for id in tqdm(credits_ids):\n",
    "    url = f\"https://api.themoviedb.org/3/movie/{id}/keywords?api_key={api_key}&language=en-US\"\n",
    "    resp = requests.get(url).json()\n",
    "\n",
    "    create_keywords_single_row(id, keywords_data, resp)\n"
   ]
  },
  {
   "cell_type": "code",
   "execution_count": 29,
   "metadata": {
    "colab": {
     "base_uri": "https://localhost:8080/",
     "height": 206
    },
    "id": "A-HDJloDp45E",
    "outputId": "0827fa6f-b5ba-4b4e-80c4-c1b121d492e1"
   },
   "outputs": [
    {
     "data": {
      "text/html": [
       "\n",
       "  <div id=\"df-66bdcaf9-ee81-485c-9f0c-2dd988406f94\">\n",
       "    <div class=\"colab-df-container\">\n",
       "      <div>\n",
       "<style scoped>\n",
       "    .dataframe tbody tr th:only-of-type {\n",
       "        vertical-align: middle;\n",
       "    }\n",
       "\n",
       "    .dataframe tbody tr th {\n",
       "        vertical-align: top;\n",
       "    }\n",
       "\n",
       "    .dataframe thead th {\n",
       "        text-align: right;\n",
       "    }\n",
       "</style>\n",
       "<table border=\"1\" class=\"dataframe\">\n",
       "  <thead>\n",
       "    <tr style=\"text-align: right;\">\n",
       "      <th></th>\n",
       "      <th>id</th>\n",
       "      <th>keywords</th>\n",
       "    </tr>\n",
       "  </thead>\n",
       "  <tbody>\n",
       "    <tr>\n",
       "      <th>0</th>\n",
       "      <td>862</td>\n",
       "      <td>[martial arts, jealousy, friendship, bullying,...</td>\n",
       "    </tr>\n",
       "    <tr>\n",
       "      <th>1</th>\n",
       "      <td>8844</td>\n",
       "      <td>[giant insect, board game, jungle, disappearan...</td>\n",
       "    </tr>\n",
       "    <tr>\n",
       "      <th>2</th>\n",
       "      <td>15602</td>\n",
       "      <td>[fishing, halloween, sequel, old man, best fri...</td>\n",
       "    </tr>\n",
       "    <tr>\n",
       "      <th>3</th>\n",
       "      <td>31357</td>\n",
       "      <td>[based on novel or book, interracial relations...</td>\n",
       "    </tr>\n",
       "    <tr>\n",
       "      <th>4</th>\n",
       "      <td>11862</td>\n",
       "      <td>[parent child relationship, baby, midlife cris...</td>\n",
       "    </tr>\n",
       "  </tbody>\n",
       "</table>\n",
       "</div>\n",
       "      <button class=\"colab-df-convert\" onclick=\"convertToInteractive('df-66bdcaf9-ee81-485c-9f0c-2dd988406f94')\"\n",
       "              title=\"Convert this dataframe to an interactive table.\"\n",
       "              style=\"display:none;\">\n",
       "        \n",
       "  <svg xmlns=\"http://www.w3.org/2000/svg\" height=\"24px\"viewBox=\"0 0 24 24\"\n",
       "       width=\"24px\">\n",
       "    <path d=\"M0 0h24v24H0V0z\" fill=\"none\"/>\n",
       "    <path d=\"M18.56 5.44l.94 2.06.94-2.06 2.06-.94-2.06-.94-.94-2.06-.94 2.06-2.06.94zm-11 1L8.5 8.5l.94-2.06 2.06-.94-2.06-.94L8.5 2.5l-.94 2.06-2.06.94zm10 10l.94 2.06.94-2.06 2.06-.94-2.06-.94-.94-2.06-.94 2.06-2.06.94z\"/><path d=\"M17.41 7.96l-1.37-1.37c-.4-.4-.92-.59-1.43-.59-.52 0-1.04.2-1.43.59L10.3 9.45l-7.72 7.72c-.78.78-.78 2.05 0 2.83L4 21.41c.39.39.9.59 1.41.59.51 0 1.02-.2 1.41-.59l7.78-7.78 2.81-2.81c.8-.78.8-2.07 0-2.86zM5.41 20L4 18.59l7.72-7.72 1.47 1.35L5.41 20z\"/>\n",
       "  </svg>\n",
       "      </button>\n",
       "      \n",
       "  <style>\n",
       "    .colab-df-container {\n",
       "      display:flex;\n",
       "      flex-wrap:wrap;\n",
       "      gap: 12px;\n",
       "    }\n",
       "\n",
       "    .colab-df-convert {\n",
       "      background-color: #E8F0FE;\n",
       "      border: none;\n",
       "      border-radius: 50%;\n",
       "      cursor: pointer;\n",
       "      display: none;\n",
       "      fill: #1967D2;\n",
       "      height: 32px;\n",
       "      padding: 0 0 0 0;\n",
       "      width: 32px;\n",
       "    }\n",
       "\n",
       "    .colab-df-convert:hover {\n",
       "      background-color: #E2EBFA;\n",
       "      box-shadow: 0px 1px 2px rgba(60, 64, 67, 0.3), 0px 1px 3px 1px rgba(60, 64, 67, 0.15);\n",
       "      fill: #174EA6;\n",
       "    }\n",
       "\n",
       "    [theme=dark] .colab-df-convert {\n",
       "      background-color: #3B4455;\n",
       "      fill: #D2E3FC;\n",
       "    }\n",
       "\n",
       "    [theme=dark] .colab-df-convert:hover {\n",
       "      background-color: #434B5C;\n",
       "      box-shadow: 0px 1px 3px 1px rgba(0, 0, 0, 0.15);\n",
       "      filter: drop-shadow(0px 1px 2px rgba(0, 0, 0, 0.3));\n",
       "      fill: #FFFFFF;\n",
       "    }\n",
       "  </style>\n",
       "\n",
       "      <script>\n",
       "        const buttonEl =\n",
       "          document.querySelector('#df-66bdcaf9-ee81-485c-9f0c-2dd988406f94 button.colab-df-convert');\n",
       "        buttonEl.style.display =\n",
       "          google.colab.kernel.accessAllowed ? 'block' : 'none';\n",
       "\n",
       "        async function convertToInteractive(key) {\n",
       "          const element = document.querySelector('#df-66bdcaf9-ee81-485c-9f0c-2dd988406f94');\n",
       "          const dataTable =\n",
       "            await google.colab.kernel.invokeFunction('convertToInteractive',\n",
       "                                                     [key], {});\n",
       "          if (!dataTable) return;\n",
       "\n",
       "          const docLinkHtml = 'Like what you see? Visit the ' +\n",
       "            '<a target=\"_blank\" href=https://colab.research.google.com/notebooks/data_table.ipynb>data table notebook</a>'\n",
       "            + ' to learn more about interactive tables.';\n",
       "          element.innerHTML = '';\n",
       "          dataTable['output_type'] = 'display_data';\n",
       "          await google.colab.output.renderOutput(dataTable, element);\n",
       "          const docLink = document.createElement('div');\n",
       "          docLink.innerHTML = docLinkHtml;\n",
       "          element.appendChild(docLink);\n",
       "        }\n",
       "      </script>\n",
       "    </div>\n",
       "  </div>\n",
       "  "
      ],
      "text/plain": [
       "      id                                           keywords\n",
       "0    862  [martial arts, jealousy, friendship, bullying,...\n",
       "1   8844  [giant insect, board game, jungle, disappearan...\n",
       "2  15602  [fishing, halloween, sequel, old man, best fri...\n",
       "3  31357  [based on novel or book, interracial relations...\n",
       "4  11862  [parent child relationship, baby, midlife cris..."
      ]
     },
     "execution_count": 29,
     "metadata": {},
     "output_type": "execute_result"
    }
   ],
   "source": [
    "keywords_df = pd.DataFrame(keywords_data)\n",
    "keywords_df.head()"
   ]
  },
  {
   "cell_type": "code",
   "execution_count": 30,
   "metadata": {
    "id": "huQiGcRQqTgB"
   },
   "outputs": [],
   "source": [
    "keywords_df.to_parquet('./keywords_data.parquet')\n"
   ]
  }
 ],
 "metadata": {
  "colab": {
   "machine_shape": "hm",
   "provenance": []
  },
  "kernelspec": {
   "display_name": "Python 3 (ipykernel)",
   "language": "python",
   "name": "python3"
  },
  "language_info": {
   "codemirror_mode": {
    "name": "ipython",
    "version": 3
   },
   "file_extension": ".py",
   "mimetype": "text/x-python",
   "name": "python",
   "nbconvert_exporter": "python",
   "pygments_lexer": "ipython3",
   "version": "3.11.2"
  }
 },
 "nbformat": 4,
 "nbformat_minor": 4
}
