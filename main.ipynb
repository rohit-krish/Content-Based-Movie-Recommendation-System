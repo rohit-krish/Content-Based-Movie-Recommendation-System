{
 "cells": [
  {
   "cell_type": "code",
   "execution_count": 1,
   "id": "75456065-96fe-49e2-bd5e-4a883ca07b15",
   "metadata": {
    "tags": []
   },
   "outputs": [],
   "source": [
    "import pandas as pd\n",
    "import numpy as np\n",
    "\n",
    "pd.set_option('display.max_columns', None)"
   ]
  },
  {
   "cell_type": "code",
   "execution_count": 2,
   "id": "5ee62abd-3cae-4750-bc4c-6f6f9d88295f",
   "metadata": {
    "tags": []
   },
   "outputs": [],
   "source": [
    "credits = pd.read_parquet('./data/credits_data.parquet')\n",
    "keywords = pd.read_parquet('./data/keywords_data.parquet')\n",
    "movies = pd.read_parquet('./data/movies_data.parquet')\n"
   ]
  },
  {
   "cell_type": "code",
   "execution_count": 3,
   "id": "2f855675-4f15-4779-9faa-c6be9d8f27a4",
   "metadata": {
    "tags": []
   },
   "outputs": [
    {
     "data": {
      "text/html": [
       "<div>\n",
       "<style scoped>\n",
       "    .dataframe tbody tr th:only-of-type {\n",
       "        vertical-align: middle;\n",
       "    }\n",
       "\n",
       "    .dataframe tbody tr th {\n",
       "        vertical-align: top;\n",
       "    }\n",
       "\n",
       "    .dataframe thead th {\n",
       "        text-align: right;\n",
       "    }\n",
       "</style>\n",
       "<table border=\"1\" class=\"dataframe\">\n",
       "  <thead>\n",
       "    <tr style=\"text-align: right;\">\n",
       "      <th></th>\n",
       "      <th>id</th>\n",
       "      <th>title</th>\n",
       "      <th>genres</th>\n",
       "      <th>overview</th>\n",
       "      <th>adult</th>\n",
       "      <th>release_year</th>\n",
       "      <th>poster_url</th>\n",
       "    </tr>\n",
       "  </thead>\n",
       "  <tbody>\n",
       "    <tr>\n",
       "      <th>0</th>\n",
       "      <td>19995</td>\n",
       "      <td>Avatar</td>\n",
       "      <td>[Action, Adventure, Fantasy, Science Fiction]</td>\n",
       "      <td>In the 22nd century, a paraplegic Marine is di...</td>\n",
       "      <td>False</td>\n",
       "      <td>2009</td>\n",
       "      <td>https://image.tmdb.org/t/p/w500/kyeqWdyUXW608q...</td>\n",
       "    </tr>\n",
       "    <tr>\n",
       "      <th>1</th>\n",
       "      <td>285</td>\n",
       "      <td>Pirates of the Caribbean: At World's End</td>\n",
       "      <td>[Adventure, Fantasy, Action]</td>\n",
       "      <td>Captain Barbossa, long believed to be dead, ha...</td>\n",
       "      <td>False</td>\n",
       "      <td>2007</td>\n",
       "      <td>https://image.tmdb.org/t/p/w500/jGWpG4YhpQwVmj...</td>\n",
       "    </tr>\n",
       "    <tr>\n",
       "      <th>2</th>\n",
       "      <td>206647</td>\n",
       "      <td>Spectre</td>\n",
       "      <td>[Action, Adventure, Thriller]</td>\n",
       "      <td>A cryptic message from Bond’s past sends him o...</td>\n",
       "      <td>False</td>\n",
       "      <td>2015</td>\n",
       "      <td>https://image.tmdb.org/t/p/w500/672kUEMtTHcaVY...</td>\n",
       "    </tr>\n",
       "    <tr>\n",
       "      <th>3</th>\n",
       "      <td>49026</td>\n",
       "      <td>The Dark Knight Rises</td>\n",
       "      <td>[Action, Crime, Drama, Thriller]</td>\n",
       "      <td>Following the death of District Attorney Harve...</td>\n",
       "      <td>False</td>\n",
       "      <td>2012</td>\n",
       "      <td>https://image.tmdb.org/t/p/w500/85cWkCVftiVs0B...</td>\n",
       "    </tr>\n",
       "    <tr>\n",
       "      <th>4</th>\n",
       "      <td>49529</td>\n",
       "      <td>John Carter</td>\n",
       "      <td>[Action, Adventure, Science Fiction]</td>\n",
       "      <td>John Carter is a war-weary, former military ca...</td>\n",
       "      <td>False</td>\n",
       "      <td>2012</td>\n",
       "      <td>https://image.tmdb.org/t/p/w500/lCxz1Yus07QCQQ...</td>\n",
       "    </tr>\n",
       "  </tbody>\n",
       "</table>\n",
       "</div>"
      ],
      "text/plain": [
       "       id                                     title  \\\n",
       "0   19995                                    Avatar   \n",
       "1     285  Pirates of the Caribbean: At World's End   \n",
       "2  206647                                   Spectre   \n",
       "3   49026                     The Dark Knight Rises   \n",
       "4   49529                               John Carter   \n",
       "\n",
       "                                          genres  \\\n",
       "0  [Action, Adventure, Fantasy, Science Fiction]   \n",
       "1                   [Adventure, Fantasy, Action]   \n",
       "2                  [Action, Adventure, Thriller]   \n",
       "3               [Action, Crime, Drama, Thriller]   \n",
       "4           [Action, Adventure, Science Fiction]   \n",
       "\n",
       "                                            overview  adult release_year  \\\n",
       "0  In the 22nd century, a paraplegic Marine is di...  False         2009   \n",
       "1  Captain Barbossa, long believed to be dead, ha...  False         2007   \n",
       "2  A cryptic message from Bond’s past sends him o...  False         2015   \n",
       "3  Following the death of District Attorney Harve...  False         2012   \n",
       "4  John Carter is a war-weary, former military ca...  False         2012   \n",
       "\n",
       "                                          poster_url  \n",
       "0  https://image.tmdb.org/t/p/w500/kyeqWdyUXW608q...  \n",
       "1  https://image.tmdb.org/t/p/w500/jGWpG4YhpQwVmj...  \n",
       "2  https://image.tmdb.org/t/p/w500/672kUEMtTHcaVY...  \n",
       "3  https://image.tmdb.org/t/p/w500/85cWkCVftiVs0B...  \n",
       "4  https://image.tmdb.org/t/p/w500/lCxz1Yus07QCQQ...  "
      ]
     },
     "execution_count": 3,
     "metadata": {},
     "output_type": "execute_result"
    }
   ],
   "source": [
    "movies.head()"
   ]
  },
  {
   "cell_type": "code",
   "execution_count": 4,
   "id": "67587d04-d270-4e95-b48a-a4634416f3c3",
   "metadata": {
    "tags": []
   },
   "outputs": [
    {
     "data": {
      "text/html": [
       "<div>\n",
       "<style scoped>\n",
       "    .dataframe tbody tr th:only-of-type {\n",
       "        vertical-align: middle;\n",
       "    }\n",
       "\n",
       "    .dataframe tbody tr th {\n",
       "        vertical-align: top;\n",
       "    }\n",
       "\n",
       "    .dataframe thead th {\n",
       "        text-align: right;\n",
       "    }\n",
       "</style>\n",
       "<table border=\"1\" class=\"dataframe\">\n",
       "  <thead>\n",
       "    <tr style=\"text-align: right;\">\n",
       "      <th></th>\n",
       "      <th>id</th>\n",
       "      <th>cast</th>\n",
       "      <th>director</th>\n",
       "    </tr>\n",
       "  </thead>\n",
       "  <tbody>\n",
       "    <tr>\n",
       "      <th>0</th>\n",
       "      <td>19995</td>\n",
       "      <td>[[Sam Worthington, /mflBcox36s9ZPbsZPVOuhf6axa...</td>\n",
       "      <td>[[James Cameron, /9NAZnTjBQ9WcXAQEzZpKy4vdQto....</td>\n",
       "    </tr>\n",
       "    <tr>\n",
       "      <th>1</th>\n",
       "      <td>285</td>\n",
       "      <td>[[Johnny Depp, /yZAoqNhBtlHnK8rC1n99bEzwOMF.jp...</td>\n",
       "      <td>[[Gore Verbinski, /rSQRdmLNAwdKxrtvBSSlBmWeSsj...</td>\n",
       "    </tr>\n",
       "    <tr>\n",
       "      <th>2</th>\n",
       "      <td>206647</td>\n",
       "      <td>[[Monica Bellucci, /pz3B128Uk3dgmiKB7eghidXdNQ...</td>\n",
       "      <td>[[Sam Mendes, /5z89X9rB76JDblqMQ52fviwXxAN.jpg]]</td>\n",
       "    </tr>\n",
       "    <tr>\n",
       "      <th>3</th>\n",
       "      <td>49026</td>\n",
       "      <td>[[Gary Oldman, /2v9FVVBUrrkW2m3QOcYkuhq9A6o.jp...</td>\n",
       "      <td>[[Christopher Nolan, /xuAIuYSmsUzKlUMBFGVZaWsY...</td>\n",
       "    </tr>\n",
       "    <tr>\n",
       "      <th>4</th>\n",
       "      <td>49529</td>\n",
       "      <td>[[Willem Dafoe, /ui8e4sgZAwMPi3hzEO53jyBJF9B.j...</td>\n",
       "      <td>[[Andrew Stanton, /tRwWuo06aN9vuXAPaswMN42x2ii...</td>\n",
       "    </tr>\n",
       "  </tbody>\n",
       "</table>\n",
       "</div>"
      ],
      "text/plain": [
       "       id                                               cast  \\\n",
       "0   19995  [[Sam Worthington, /mflBcox36s9ZPbsZPVOuhf6axa...   \n",
       "1     285  [[Johnny Depp, /yZAoqNhBtlHnK8rC1n99bEzwOMF.jp...   \n",
       "2  206647  [[Monica Bellucci, /pz3B128Uk3dgmiKB7eghidXdNQ...   \n",
       "3   49026  [[Gary Oldman, /2v9FVVBUrrkW2m3QOcYkuhq9A6o.jp...   \n",
       "4   49529  [[Willem Dafoe, /ui8e4sgZAwMPi3hzEO53jyBJF9B.j...   \n",
       "\n",
       "                                            director  \n",
       "0  [[James Cameron, /9NAZnTjBQ9WcXAQEzZpKy4vdQto....  \n",
       "1  [[Gore Verbinski, /rSQRdmLNAwdKxrtvBSSlBmWeSsj...  \n",
       "2   [[Sam Mendes, /5z89X9rB76JDblqMQ52fviwXxAN.jpg]]  \n",
       "3  [[Christopher Nolan, /xuAIuYSmsUzKlUMBFGVZaWsY...  \n",
       "4  [[Andrew Stanton, /tRwWuo06aN9vuXAPaswMN42x2ii...  "
      ]
     },
     "execution_count": 4,
     "metadata": {},
     "output_type": "execute_result"
    }
   ],
   "source": [
    "credits.head()"
   ]
  },
  {
   "cell_type": "code",
   "execution_count": 5,
   "id": "d1c9eb45-aebb-42dd-8d9a-d76966b42552",
   "metadata": {
    "tags": []
   },
   "outputs": [
    {
     "data": {
      "text/html": [
       "<div>\n",
       "<style scoped>\n",
       "    .dataframe tbody tr th:only-of-type {\n",
       "        vertical-align: middle;\n",
       "    }\n",
       "\n",
       "    .dataframe tbody tr th {\n",
       "        vertical-align: top;\n",
       "    }\n",
       "\n",
       "    .dataframe thead th {\n",
       "        text-align: right;\n",
       "    }\n",
       "</style>\n",
       "<table border=\"1\" class=\"dataframe\">\n",
       "  <thead>\n",
       "    <tr style=\"text-align: right;\">\n",
       "      <th></th>\n",
       "      <th>id</th>\n",
       "      <th>keywords</th>\n",
       "    </tr>\n",
       "  </thead>\n",
       "  <tbody>\n",
       "    <tr>\n",
       "      <th>0</th>\n",
       "      <td>19995</td>\n",
       "      <td>[culture clash, future, space war, space colon...</td>\n",
       "    </tr>\n",
       "    <tr>\n",
       "      <th>1</th>\n",
       "      <td>285</td>\n",
       "      <td>[exotic island, east india company, love of on...</td>\n",
       "    </tr>\n",
       "    <tr>\n",
       "      <th>2</th>\n",
       "      <td>206647</td>\n",
       "      <td>[spy, based on novel or book, secret agent, se...</td>\n",
       "    </tr>\n",
       "    <tr>\n",
       "      <th>3</th>\n",
       "      <td>49026</td>\n",
       "      <td>[crime fighter, terrorist, secret identity, bu...</td>\n",
       "    </tr>\n",
       "    <tr>\n",
       "      <th>4</th>\n",
       "      <td>49529</td>\n",
       "      <td>[based on novel or book, planet mars, medallio...</td>\n",
       "    </tr>\n",
       "  </tbody>\n",
       "</table>\n",
       "</div>"
      ],
      "text/plain": [
       "       id                                           keywords\n",
       "0   19995  [culture clash, future, space war, space colon...\n",
       "1     285  [exotic island, east india company, love of on...\n",
       "2  206647  [spy, based on novel or book, secret agent, se...\n",
       "3   49026  [crime fighter, terrorist, secret identity, bu...\n",
       "4   49529  [based on novel or book, planet mars, medallio..."
      ]
     },
     "execution_count": 5,
     "metadata": {},
     "output_type": "execute_result"
    }
   ],
   "source": [
    "keywords.head()"
   ]
  },
  {
   "cell_type": "code",
   "execution_count": 6,
   "id": "9359bb6e-c404-4b3f-97cd-f5d6d81fa139",
   "metadata": {
    "tags": []
   },
   "outputs": [
    {
     "name": "stdout",
     "output_type": "stream",
     "text": [
      "(4770, 7)\n",
      "(4495, 2)\n",
      "(4767, 3)\n"
     ]
    }
   ],
   "source": [
    "print(movies.shape)\n",
    "print(keywords.shape)\n",
    "print(credits.shape)\n"
   ]
  },
  {
   "cell_type": "code",
   "execution_count": 50,
   "id": "632b5a1a-ce2c-444d-97af-a73a0a2a31ab",
   "metadata": {},
   "outputs": [],
   "source": [
    "combined = movies.merge(keywords, on='id', how='outer')\n",
    "combined = combined.merge(credits, on='id', how='outer')"
   ]
  },
  {
   "cell_type": "code",
   "execution_count": 51,
   "id": "92c86dca-e0c9-41e0-b19a-512076a42663",
   "metadata": {
    "tags": []
   },
   "outputs": [
    {
     "data": {
      "text/plain": [
       "id                0\n",
       "title             0\n",
       "genres            0\n",
       "overview          0\n",
       "adult             0\n",
       "release_year      0\n",
       "poster_url        0\n",
       "keywords        275\n",
       "cast              3\n",
       "director          3\n",
       "dtype: int64"
      ]
     },
     "execution_count": 51,
     "metadata": {},
     "output_type": "execute_result"
    }
   ],
   "source": [
    "combined.isna().sum()"
   ]
  },
  {
   "cell_type": "code",
   "execution_count": 52,
   "id": "4e4fd402-723a-4a9a-9dc1-072e2ec4cca7",
   "metadata": {
    "tags": []
   },
   "outputs": [
    {
     "data": {
      "text/plain": [
       "0"
      ]
     },
     "execution_count": 52,
     "metadata": {},
     "output_type": "execute_result"
    }
   ],
   "source": [
    "combined.dropna(inplace=True)\n",
    "combined.isna().sum().sum()"
   ]
  },
  {
   "cell_type": "code",
   "execution_count": 53,
   "id": "1ee79112-44be-4ae8-9a73-f31eda58d8c2",
   "metadata": {
    "tags": []
   },
   "outputs": [
    {
     "data": {
      "text/html": [
       "<div>\n",
       "<style scoped>\n",
       "    .dataframe tbody tr th:only-of-type {\n",
       "        vertical-align: middle;\n",
       "    }\n",
       "\n",
       "    .dataframe tbody tr th {\n",
       "        vertical-align: top;\n",
       "    }\n",
       "\n",
       "    .dataframe thead th {\n",
       "        text-align: right;\n",
       "    }\n",
       "</style>\n",
       "<table border=\"1\" class=\"dataframe\">\n",
       "  <thead>\n",
       "    <tr style=\"text-align: right;\">\n",
       "      <th></th>\n",
       "      <th>id</th>\n",
       "      <th>title</th>\n",
       "      <th>genres</th>\n",
       "      <th>overview</th>\n",
       "      <th>adult</th>\n",
       "      <th>release_year</th>\n",
       "      <th>poster_url</th>\n",
       "      <th>keywords</th>\n",
       "      <th>cast</th>\n",
       "      <th>director</th>\n",
       "    </tr>\n",
       "  </thead>\n",
       "  <tbody>\n",
       "    <tr>\n",
       "      <th>0</th>\n",
       "      <td>19995</td>\n",
       "      <td>Avatar</td>\n",
       "      <td>[Action, Adventure, Fantasy, Science Fiction]</td>\n",
       "      <td>In the 22nd century, a paraplegic Marine is di...</td>\n",
       "      <td>False</td>\n",
       "      <td>2009</td>\n",
       "      <td>https://image.tmdb.org/t/p/w500/kyeqWdyUXW608q...</td>\n",
       "      <td>[culture clash, future, space war, space colon...</td>\n",
       "      <td>[[Sam Worthington, /mflBcox36s9ZPbsZPVOuhf6axa...</td>\n",
       "      <td>[[James Cameron, /9NAZnTjBQ9WcXAQEzZpKy4vdQto....</td>\n",
       "    </tr>\n",
       "    <tr>\n",
       "      <th>1</th>\n",
       "      <td>285</td>\n",
       "      <td>Pirates of the Caribbean: At World's End</td>\n",
       "      <td>[Adventure, Fantasy, Action]</td>\n",
       "      <td>Captain Barbossa, long believed to be dead, ha...</td>\n",
       "      <td>False</td>\n",
       "      <td>2007</td>\n",
       "      <td>https://image.tmdb.org/t/p/w500/jGWpG4YhpQwVmj...</td>\n",
       "      <td>[exotic island, east india company, love of on...</td>\n",
       "      <td>[[Johnny Depp, /yZAoqNhBtlHnK8rC1n99bEzwOMF.jp...</td>\n",
       "      <td>[[Gore Verbinski, /rSQRdmLNAwdKxrtvBSSlBmWeSsj...</td>\n",
       "    </tr>\n",
       "  </tbody>\n",
       "</table>\n",
       "</div>"
      ],
      "text/plain": [
       "      id                                     title  \\\n",
       "0  19995                                    Avatar   \n",
       "1    285  Pirates of the Caribbean: At World's End   \n",
       "\n",
       "                                          genres  \\\n",
       "0  [Action, Adventure, Fantasy, Science Fiction]   \n",
       "1                   [Adventure, Fantasy, Action]   \n",
       "\n",
       "                                            overview  adult release_year  \\\n",
       "0  In the 22nd century, a paraplegic Marine is di...  False         2009   \n",
       "1  Captain Barbossa, long believed to be dead, ha...  False         2007   \n",
       "\n",
       "                                          poster_url  \\\n",
       "0  https://image.tmdb.org/t/p/w500/kyeqWdyUXW608q...   \n",
       "1  https://image.tmdb.org/t/p/w500/jGWpG4YhpQwVmj...   \n",
       "\n",
       "                                            keywords  \\\n",
       "0  [culture clash, future, space war, space colon...   \n",
       "1  [exotic island, east india company, love of on...   \n",
       "\n",
       "                                                cast  \\\n",
       "0  [[Sam Worthington, /mflBcox36s9ZPbsZPVOuhf6axa...   \n",
       "1  [[Johnny Depp, /yZAoqNhBtlHnK8rC1n99bEzwOMF.jp...   \n",
       "\n",
       "                                            director  \n",
       "0  [[James Cameron, /9NAZnTjBQ9WcXAQEzZpKy4vdQto....  \n",
       "1  [[Gore Verbinski, /rSQRdmLNAwdKxrtvBSSlBmWeSsj...  "
      ]
     },
     "execution_count": 53,
     "metadata": {},
     "output_type": "execute_result"
    }
   ],
   "source": [
    "combined.head(2)"
   ]
  },
  {
   "cell_type": "code",
   "execution_count": 54,
   "id": "a7e5f34a",
   "metadata": {},
   "outputs": [
    {
     "data": {
      "text/plain": [
       "(4495, 10)"
      ]
     },
     "execution_count": 54,
     "metadata": {},
     "output_type": "execute_result"
    }
   ],
   "source": [
    "combined.shape\n"
   ]
  },
  {
   "cell_type": "code",
   "execution_count": 23,
   "id": "7ce4c554-10c1-49d8-a53a-fe0b335b133f",
   "metadata": {
    "tags": []
   },
   "outputs": [
    {
     "data": {
      "text/html": [
       "<div>\n",
       "<style scoped>\n",
       "    .dataframe tbody tr th:only-of-type {\n",
       "        vertical-align: middle;\n",
       "    }\n",
       "\n",
       "    .dataframe tbody tr th {\n",
       "        vertical-align: top;\n",
       "    }\n",
       "\n",
       "    .dataframe thead th {\n",
       "        text-align: right;\n",
       "    }\n",
       "</style>\n",
       "<table border=\"1\" class=\"dataframe\">\n",
       "  <thead>\n",
       "    <tr style=\"text-align: right;\">\n",
       "      <th></th>\n",
       "      <th>id</th>\n",
       "      <th>title</th>\n",
       "      <th>genres</th>\n",
       "      <th>overview</th>\n",
       "      <th>adult</th>\n",
       "      <th>release_year</th>\n",
       "      <th>keywords</th>\n",
       "      <th>cast</th>\n",
       "      <th>director</th>\n",
       "    </tr>\n",
       "  </thead>\n",
       "  <tbody>\n",
       "    <tr>\n",
       "      <th>0</th>\n",
       "      <td>19995</td>\n",
       "      <td>Avatar</td>\n",
       "      <td>[Action, Adventure, Fantasy, Science_Fiction]</td>\n",
       "      <td>[In, the, 22nd, century,, a, paraplegic, Marin...</td>\n",
       "      <td>0</td>\n",
       "      <td>2009</td>\n",
       "      <td>[culture_clash, future, space_war, space_colon...</td>\n",
       "      <td>[Sam Worthington, Zoe Saldaña, Michelle Rodrig...</td>\n",
       "      <td>[James Cameron]</td>\n",
       "    </tr>\n",
       "    <tr>\n",
       "      <th>1</th>\n",
       "      <td>285</td>\n",
       "      <td>Pirates of the Caribbean: At World's End</td>\n",
       "      <td>[Adventure, Fantasy, Action]</td>\n",
       "      <td>[Captain, Barbossa,, long, believed, to, be, d...</td>\n",
       "      <td>0</td>\n",
       "      <td>2007</td>\n",
       "      <td>[exotic_island, east_india_company, love_of_on...</td>\n",
       "      <td>[Johnny Depp, Keira Knightley, Bill Nighy, Ste...</td>\n",
       "      <td>[Gore Verbinski]</td>\n",
       "    </tr>\n",
       "  </tbody>\n",
       "</table>\n",
       "</div>"
      ],
      "text/plain": [
       "      id                                     title  \\\n",
       "0  19995                                    Avatar   \n",
       "1    285  Pirates of the Caribbean: At World's End   \n",
       "\n",
       "                                          genres  \\\n",
       "0  [Action, Adventure, Fantasy, Science_Fiction]   \n",
       "1                   [Adventure, Fantasy, Action]   \n",
       "\n",
       "                                            overview  adult  release_year  \\\n",
       "0  [In, the, 22nd, century,, a, paraplegic, Marin...      0          2009   \n",
       "1  [Captain, Barbossa,, long, believed, to, be, d...      0          2007   \n",
       "\n",
       "                                            keywords  \\\n",
       "0  [culture_clash, future, space_war, space_colon...   \n",
       "1  [exotic_island, east_india_company, love_of_on...   \n",
       "\n",
       "                                                cast          director  \n",
       "0  [Sam Worthington, Zoe Saldaña, Michelle Rodrig...   [James Cameron]  \n",
       "1  [Johnny Depp, Keira Knightley, Bill Nighy, Ste...  [Gore Verbinski]  "
      ]
     },
     "execution_count": 23,
     "metadata": {},
     "output_type": "execute_result"
    }
   ],
   "source": [
    "df = combined.drop('poster_url', axis=1)\n",
    "df['id'] = df['id'].astype('int32')\n",
    "df['genres'] = df['genres'].apply(lambda x: [x_i.replace(' ', '_') for x_i in x])\n",
    "df['overview'] = df['overview'].apply(lambda x: x.split())\n",
    "df['adult'] = df['adult'].astype('int8')\n",
    "df['release_year'] = df['release_year'].astype('int16')\n",
    "df['keywords'] = df['keywords'].apply(lambda x: [x_i.replace(' ', '_') for x_i in x])\n",
    "df['cast'] = df['cast'].apply(lambda x: [x_i[0] for x_i in x])\n",
    "df['director'] = df['director'].apply(lambda x: [x_i[0] for x_i in x])\n",
    "\n",
    "df.head(2)"
   ]
  },
  {
   "cell_type": "code",
   "execution_count": 24,
   "id": "4db02110-d1f1-49c2-8333-0461c6cc5cd7",
   "metadata": {
    "tags": []
   },
   "outputs": [
    {
     "data": {
      "text/html": [
       "<div>\n",
       "<style scoped>\n",
       "    .dataframe tbody tr th:only-of-type {\n",
       "        vertical-align: middle;\n",
       "    }\n",
       "\n",
       "    .dataframe tbody tr th {\n",
       "        vertical-align: top;\n",
       "    }\n",
       "\n",
       "    .dataframe thead th {\n",
       "        text-align: right;\n",
       "    }\n",
       "</style>\n",
       "<table border=\"1\" class=\"dataframe\">\n",
       "  <thead>\n",
       "    <tr style=\"text-align: right;\">\n",
       "      <th></th>\n",
       "      <th>id</th>\n",
       "      <th>title</th>\n",
       "      <th>adult</th>\n",
       "      <th>release_year</th>\n",
       "      <th>tags</th>\n",
       "    </tr>\n",
       "  </thead>\n",
       "  <tbody>\n",
       "    <tr>\n",
       "      <th>0</th>\n",
       "      <td>19995</td>\n",
       "      <td>Avatar</td>\n",
       "      <td>0</td>\n",
       "      <td>2009</td>\n",
       "      <td>action adventure fantasy science_fiction in th...</td>\n",
       "    </tr>\n",
       "    <tr>\n",
       "      <th>1</th>\n",
       "      <td>285</td>\n",
       "      <td>Pirates of the Caribbean: At World's End</td>\n",
       "      <td>0</td>\n",
       "      <td>2007</td>\n",
       "      <td>adventure fantasy action captain barbossa, lon...</td>\n",
       "    </tr>\n",
       "    <tr>\n",
       "      <th>2</th>\n",
       "      <td>206647</td>\n",
       "      <td>Spectre</td>\n",
       "      <td>0</td>\n",
       "      <td>2015</td>\n",
       "      <td>action adventure thriller a cryptic message fr...</td>\n",
       "    </tr>\n",
       "    <tr>\n",
       "      <th>3</th>\n",
       "      <td>49026</td>\n",
       "      <td>The Dark Knight Rises</td>\n",
       "      <td>0</td>\n",
       "      <td>2012</td>\n",
       "      <td>action crime drama thriller following the deat...</td>\n",
       "    </tr>\n",
       "    <tr>\n",
       "      <th>4</th>\n",
       "      <td>49529</td>\n",
       "      <td>John Carter</td>\n",
       "      <td>0</td>\n",
       "      <td>2012</td>\n",
       "      <td>action adventure science_fiction john carter i...</td>\n",
       "    </tr>\n",
       "  </tbody>\n",
       "</table>\n",
       "</div>"
      ],
      "text/plain": [
       "       id                                     title  adult  release_year  \\\n",
       "0   19995                                    Avatar      0          2009   \n",
       "1     285  Pirates of the Caribbean: At World's End      0          2007   \n",
       "2  206647                                   Spectre      0          2015   \n",
       "3   49026                     The Dark Knight Rises      0          2012   \n",
       "4   49529                               John Carter      0          2012   \n",
       "\n",
       "                                                tags  \n",
       "0  action adventure fantasy science_fiction in th...  \n",
       "1  adventure fantasy action captain barbossa, lon...  \n",
       "2  action adventure thriller a cryptic message fr...  \n",
       "3  action crime drama thriller following the deat...  \n",
       "4  action adventure science_fiction john carter i...  "
      ]
     },
     "execution_count": 24,
     "metadata": {},
     "output_type": "execute_result"
    }
   ],
   "source": [
    "# extending to one list\n",
    "df['tags'] = df['genres'] + df['overview'] + df['keywords'] + df['cast'] + df['director']\n",
    "df = df[['id', 'title', 'adult', 'release_year', 'tags']]\n",
    "\n",
    "df['tags'] = df['tags'].apply(lambda x: ' '.join([x_i.replace(' ', '_') for x_i in x]).lower())\n",
    "\n",
    "df.head()"
   ]
  },
  {
   "attachments": {},
   "cell_type": "markdown",
   "id": "d46e41b4-eb4d-496a-a096-8823836a3857",
   "metadata": {
    "tags": []
   },
   "source": [
    "### Stemming ['creative', 'creating', 'created'] -> ['creat', 'creat', 'creat']"
   ]
  },
  {
   "cell_type": "code",
   "execution_count": 14,
   "id": "2f58b7ed-f231-474a-946d-100044547a62",
   "metadata": {
    "tags": []
   },
   "outputs": [
    {
     "name": "stdout",
     "output_type": "stream",
     "text": [
      "Defaulting to user installation because normal site-packages is not writeable\n",
      "Requirement already satisfied: nltk in /home/rohit/.local/lib/python3.11/site-packages (3.8.1)\n",
      "Requirement already satisfied: click in /usr/lib/python3/dist-packages (from nltk) (8.1.3)\n",
      "Requirement already satisfied: joblib in /home/rohit/.local/lib/python3.11/site-packages (from nltk) (1.2.0)\n",
      "Requirement already satisfied: regex>=2021.8.3 in /home/rohit/.local/lib/python3.11/site-packages (from nltk) (2023.6.3)\n",
      "Requirement already satisfied: tqdm in /home/rohit/.local/lib/python3.11/site-packages (from nltk) (4.65.0)\n",
      "Note: you may need to restart the kernel to use updated packages.\n"
     ]
    }
   ],
   "source": [
    "%pip install nltk"
   ]
  },
  {
   "cell_type": "code",
   "execution_count": 25,
   "id": "e45f8b4c-e80b-4b76-8b4e-4abb261706db",
   "metadata": {
    "tags": []
   },
   "outputs": [
    {
     "data": {
      "text/plain": [
       "'action adventur fantasi science_fict in the 22nd century, a parapleg marin is dispatch to the moon pandora on a uniqu mission, but becom torn between follow order and protect an alien civilization. culture_clash futur space_war space_coloni societi space_travel futurist romanc space alien tribe alien_planet marin soldier battl love_affair natur anti_war power_rel mind_and_soul sam_worthington zoe_saldaña michelle_rodriguez sigourney_weav stephen_lang james_cameron'"
      ]
     },
     "execution_count": 25,
     "metadata": {},
     "output_type": "execute_result"
    }
   ],
   "source": [
    "from nltk.stem.porter import PorterStemmer\n",
    "\n",
    "ps = PorterStemmer()\n",
    "\n",
    "def stem(text):\n",
    "    return ' '.join([ps.stem(t) for t in text.split()])\n",
    "\n",
    "stem(df['tags'].iloc[0])"
   ]
  },
  {
   "cell_type": "code",
   "execution_count": 26,
   "id": "05d73e68-9ab4-4587-97f5-9a91db1fbb56",
   "metadata": {
    "tags": []
   },
   "outputs": [],
   "source": [
    "df['tags'] = df['tags'].apply(stem)"
   ]
  },
  {
   "attachments": {},
   "cell_type": "markdown",
   "id": "c8dd60d2-be9f-476a-8da7-0c1664a3ecec",
   "metadata": {},
   "source": [
    "### Vectorization (Bag Of Words)"
   ]
  },
  {
   "cell_type": "code",
   "execution_count": 17,
   "id": "c1c0a980-38e8-48ba-80d4-732a7196b41b",
   "metadata": {
    "tags": []
   },
   "outputs": [
    {
     "name": "stdout",
     "output_type": "stream",
     "text": [
      "Defaulting to user installation because normal site-packages is not writeable\n",
      "Requirement already satisfied: scikit-learn in /home/rohit/.local/lib/python3.11/site-packages (1.2.1)\n",
      "Requirement already satisfied: numpy>=1.17.3 in /home/rohit/.local/lib/python3.11/site-packages (from scikit-learn) (1.23.5)\n",
      "Requirement already satisfied: scipy>=1.3.2 in /home/rohit/.local/lib/python3.11/site-packages (from scikit-learn) (1.10.1)\n",
      "Requirement already satisfied: joblib>=1.1.1 in /home/rohit/.local/lib/python3.11/site-packages (from scikit-learn) (1.2.0)\n",
      "Requirement already satisfied: threadpoolctl>=2.0.0 in /home/rohit/.local/lib/python3.11/site-packages (from scikit-learn) (3.1.0)\n",
      "Note: you may need to restart the kernel to use updated packages.\n"
     ]
    }
   ],
   "source": [
    "%pip install scikit-learn"
   ]
  },
  {
   "cell_type": "code",
   "execution_count": 27,
   "id": "929e2117-6042-451e-9a57-dd83b8aeb2dc",
   "metadata": {
    "tags": []
   },
   "outputs": [
    {
     "data": {
      "text/plain": [
       "(4495, 6000)"
      ]
     },
     "execution_count": 27,
     "metadata": {},
     "output_type": "execute_result"
    }
   ],
   "source": [
    "from sklearn.feature_extraction.text import CountVectorizer\n",
    "\n",
    "cv = CountVectorizer(max_features=6000, stop_words='english')\n",
    "\n",
    "vectors = cv.fit_transform(df['tags']).toarray()\n",
    "vectors.shape"
   ]
  },
  {
   "cell_type": "code",
   "execution_count": 28,
   "id": "62bef798-253c-48a9-a557-c75432638481",
   "metadata": {
    "tags": []
   },
   "outputs": [
    {
     "data": {
      "text/plain": [
       "array(['000', '10', '100', ..., 'zoo', 'zooey_deschanel', 'zoë_kravitz'],\n",
       "      dtype=object)"
      ]
     },
     "execution_count": 28,
     "metadata": {},
     "output_type": "execute_result"
    }
   ],
   "source": [
    "cv.get_feature_names_out()"
   ]
  },
  {
   "cell_type": "code",
   "execution_count": 29,
   "id": "bef8ce8d-3345-4fb9-80b4-9aaa272f4cb7",
   "metadata": {
    "tags": []
   },
   "outputs": [
    {
     "data": {
      "text/plain": [
       "array([0, 1, 2, 3, 4, 5, 6, 7, 8, 9])"
      ]
     },
     "execution_count": 29,
     "metadata": {},
     "output_type": "execute_result"
    }
   ],
   "source": [
    "np.unique(vectors)"
   ]
  },
  {
   "cell_type": "code",
   "execution_count": 30,
   "id": "c2f2b041-0169-43eb-ae8d-c0e2405bc95b",
   "metadata": {
    "tags": []
   },
   "outputs": [
    {
     "data": {
      "text/plain": [
       "(4495, 6000)"
      ]
     },
     "execution_count": 30,
     "metadata": {},
     "output_type": "execute_result"
    }
   ],
   "source": [
    "vectors.shape"
   ]
  },
  {
   "cell_type": "code",
   "execution_count": 31,
   "id": "58630f69-b3bf-46ca-9e01-fc01f93217c5",
   "metadata": {
    "tags": []
   },
   "outputs": [],
   "source": [
    "from sklearn.metrics.pairwise import cosine_similarity\n",
    "\n",
    "similarity = cosine_similarity(vectors)"
   ]
  },
  {
   "cell_type": "code",
   "execution_count": 32,
   "id": "6471deb8",
   "metadata": {},
   "outputs": [],
   "source": [
    "import pickle\n",
    "\n",
    "pickle.dump(similarity, open('./data/similarity.pkl', 'wb'))"
   ]
  },
  {
   "cell_type": "code",
   "execution_count": 33,
   "id": "61c33ad5",
   "metadata": {},
   "outputs": [
    {
     "data": {
      "text/html": [
       "<div>\n",
       "<style scoped>\n",
       "    .dataframe tbody tr th:only-of-type {\n",
       "        vertical-align: middle;\n",
       "    }\n",
       "\n",
       "    .dataframe tbody tr th {\n",
       "        vertical-align: top;\n",
       "    }\n",
       "\n",
       "    .dataframe thead th {\n",
       "        text-align: right;\n",
       "    }\n",
       "</style>\n",
       "<table border=\"1\" class=\"dataframe\">\n",
       "  <thead>\n",
       "    <tr style=\"text-align: right;\">\n",
       "      <th></th>\n",
       "      <th>id</th>\n",
       "      <th>title</th>\n",
       "      <th>adult</th>\n",
       "      <th>release_year</th>\n",
       "      <th>tags</th>\n",
       "    </tr>\n",
       "  </thead>\n",
       "  <tbody>\n",
       "    <tr>\n",
       "      <th>0</th>\n",
       "      <td>19995</td>\n",
       "      <td>Avatar</td>\n",
       "      <td>0</td>\n",
       "      <td>2009</td>\n",
       "      <td>action adventur fantasi science_fict in the 22...</td>\n",
       "    </tr>\n",
       "    <tr>\n",
       "      <th>1</th>\n",
       "      <td>285</td>\n",
       "      <td>Pirates of the Caribbean: At World's End</td>\n",
       "      <td>0</td>\n",
       "      <td>2007</td>\n",
       "      <td>adventur fantasi action captain barbossa, long...</td>\n",
       "    </tr>\n",
       "    <tr>\n",
       "      <th>2</th>\n",
       "      <td>206647</td>\n",
       "      <td>Spectre</td>\n",
       "      <td>0</td>\n",
       "      <td>2015</td>\n",
       "      <td>action adventur thriller a cryptic messag from...</td>\n",
       "    </tr>\n",
       "    <tr>\n",
       "      <th>3</th>\n",
       "      <td>49026</td>\n",
       "      <td>The Dark Knight Rises</td>\n",
       "      <td>0</td>\n",
       "      <td>2012</td>\n",
       "      <td>action crime drama thriller follow the death o...</td>\n",
       "    </tr>\n",
       "    <tr>\n",
       "      <th>4</th>\n",
       "      <td>49529</td>\n",
       "      <td>John Carter</td>\n",
       "      <td>0</td>\n",
       "      <td>2012</td>\n",
       "      <td>action adventur science_fict john carter is a ...</td>\n",
       "    </tr>\n",
       "  </tbody>\n",
       "</table>\n",
       "</div>"
      ],
      "text/plain": [
       "       id                                     title  adult  release_year  \\\n",
       "0   19995                                    Avatar      0          2009   \n",
       "1     285  Pirates of the Caribbean: At World's End      0          2007   \n",
       "2  206647                                   Spectre      0          2015   \n",
       "3   49026                     The Dark Knight Rises      0          2012   \n",
       "4   49529                               John Carter      0          2012   \n",
       "\n",
       "                                                tags  \n",
       "0  action adventur fantasi science_fict in the 22...  \n",
       "1  adventur fantasi action captain barbossa, long...  \n",
       "2  action adventur thriller a cryptic messag from...  \n",
       "3  action crime drama thriller follow the death o...  \n",
       "4  action adventur science_fict john carter is a ...  "
      ]
     },
     "execution_count": 33,
     "metadata": {},
     "output_type": "execute_result"
    }
   ],
   "source": [
    "df.head()"
   ]
  },
  {
   "cell_type": "code",
   "execution_count": 34,
   "id": "dc03b025-b432-4f69-a239-8adc8586fe4e",
   "metadata": {},
   "outputs": [],
   "source": [
    "def recommend(movie):\n",
    "    movie_index = df[df['title'] == movie].index[0]\n",
    "    distances = similarity[movie_index]\n",
    "    movies_list = sorted(list(enumerate(distances)), reverse=True, key=lambda x: x[1])[:6]\n",
    "\n",
    "    for m in movies_list:\n",
    "        print(df.iloc[m[0]].title)\n"
   ]
  },
  {
   "cell_type": "code",
   "execution_count": 39,
   "id": "5f1fba6a",
   "metadata": {},
   "outputs": [
    {
     "name": "stdout",
     "output_type": "stream",
     "text": [
      "Pirates of the Caribbean: At World's End\n",
      "Pirates of the Caribbean: Dead Man's Chest\n",
      "Pirates of the Caribbean: The Curse of the Black Pearl\n",
      "Pirates of the Caribbean: On Stranger Tides\n",
      "Cutthroat Island\n",
      "The Pirates Who Don't Do Anything: A VeggieTales Movie\n"
     ]
    }
   ],
   "source": [
    "recommend('Pirates of the Caribbean: At World\\'s End')"
   ]
  },
  {
   "cell_type": "code",
   "execution_count": null,
   "id": "649226d4",
   "metadata": {},
   "outputs": [],
   "source": [
    "from dotenv import load_dotenv\n",
    "from os import environ\n",
    "import requests\n",
    "\n",
    "load_dotenv()\n",
    "\n",
    "api_key = environ['API_KEY']\n",
    "\n",
    "def get_popularity_index(id):\n",
    "    url = f'http://api.themoviedb.org/3/movie/{id}?api_key={api_key}&language=en-US'\n",
    "    resp = requests.get(url).json()\n",
    "    return resp.get('popularity')\n",
    "\n",
    "combined['popularity'] = combined['id'].apply(get_popularity_index)\n"
   ]
  },
  {
   "cell_type": "code",
   "execution_count": 37,
   "id": "22e0edc0",
   "metadata": {},
   "outputs": [],
   "source": [
    "combined.to_parquet('./data/combined.parquet')\n"
   ]
  }
 ],
 "metadata": {
  "kernelspec": {
   "display_name": "Python 3 (ipykernel)",
   "language": "python",
   "name": "python3"
  },
  "language_info": {
   "codemirror_mode": {
    "name": "ipython",
    "version": 3
   },
   "file_extension": ".py",
   "mimetype": "text/x-python",
   "name": "python",
   "nbconvert_exporter": "python",
   "pygments_lexer": "ipython3",
   "version": "3.11.2"
  }
 },
 "nbformat": 4,
 "nbformat_minor": 5
}
